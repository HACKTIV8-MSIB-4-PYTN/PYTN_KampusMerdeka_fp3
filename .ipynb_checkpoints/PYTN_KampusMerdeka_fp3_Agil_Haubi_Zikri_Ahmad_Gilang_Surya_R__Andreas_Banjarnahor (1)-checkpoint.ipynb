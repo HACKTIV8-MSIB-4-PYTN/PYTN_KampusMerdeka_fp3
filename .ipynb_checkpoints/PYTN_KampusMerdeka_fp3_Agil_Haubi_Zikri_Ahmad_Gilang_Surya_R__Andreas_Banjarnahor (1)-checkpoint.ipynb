{
 "cells": [
  {
   "cell_type": "markdown",
   "id": "1b8c3ab2",
   "metadata": {
    "id": "1b8c3ab2"
   },
   "source": [
    "<h2>1. Perkenalan</h2>\n",
    "<hr>"
   ]
  },
  {
   "cell_type": "markdown",
   "id": "8b53b565",
   "metadata": {
    "id": "8b53b565"
   },
   "source": [
    "<h2>Final Projek 3</h2>\n",
    "<hr>"
   ]
  },
  {
   "cell_type": "markdown",
   "id": "7b513093",
   "metadata": {
    "id": "7b513093"
   },
   "source": [
    "Authors dan Creators:\n",
    "\n",
    "1. Agil Haubi Zikri\n",
    "2. Ahmad Gilang Surya R.\n",
    "3. Andreas Banjarnahor"
   ]
  },
  {
   "cell_type": "markdown",
   "id": "5c55d04f",
   "metadata": {
    "id": "5c55d04f"
   },
   "source": [
    "<h2>Instruksi</h2>\n",
    "<hr>"
   ]
  },
  {
   "cell_type": "markdown",
   "id": "63f881bf",
   "metadata": {
    "id": "63f881bf"
   },
   "source": [
    "Isi notebook harus mengikuti <b>outline</b> seperti di bawah:\n",
    "\n",
    "1. Perkenalan\n",
    "2. Import Libraries\n",
    "3. Data Loading\n",
    "4. Data cleaning\n",
    "5. Explorasi Data\n",
    "6. Data Preprocessing\n",
    "7. Pendefinisian Model\n",
    "8. Pelatihan Model\n",
    "9. Evaluasi Model\n",
    "10. Model Inference\n",
    "11. Pengambilan Kesimpulan"
   ]
  },
  {
   "cell_type": "markdown",
   "id": "ce420e16",
   "metadata": {
    "id": "ce420e16"
   },
   "source": [
    "<h2>Projek Rubrik</h2>\n",
    "<hr>"
   ]
  },
  {
   "cell_type": "markdown",
   "id": "cb706329",
   "metadata": {
    "id": "cb706329"
   },
   "source": [
    "1. Mengimplementasikan model klasifikasi machine learning dengan Sklearn (Logistic Regression)\n",
    "2. Mengimplementasikan dan menganalisa confusion matrix\n",
    "3. Menganalisa data setidaknya dengan 2 tipe grafik (Visualisasi)\n",
    "4. Preprocessing data sebelum melakukan pengolahan lebih lanjut\n",
    "5. Tanpa error\n",
    "6. Tertata dengan baik (markdown) setiap kode\n",
    "7. Analisis algoritma yang digunakan"
   ]
  },
  {
   "cell_type": "markdown",
   "id": "4c1ade9c",
   "metadata": {
    "id": "4c1ade9c"
   },
   "source": [
    "<h2>Dataset (Heart Failure Prediction)</h2>\n",
    "<hr>"
   ]
  },
  {
   "cell_type": "markdown",
   "id": "f75caa1a",
   "metadata": {
    "id": "f75caa1a"
   },
   "source": [
    "Dataset yang dipakai bernama <b>Heart Failure Prediction</b> yang diperoleh dari https://www.kaggle.com/datasets/andrewmvd/heart-failure-clinical-data. Dataset ini berisi tentang 12 fitur yang dapat digunakan untuk memprediksi kematian akibat gagal jantung. Dataset ini terdiri dari 299 baris dan 13 kolom. \n",
    "\n",
    "<h4>Deskripsi Atribut</h4>\n",
    "\n",
    "1. age - umur pasien\n",
    "2. anaemia - apakah ada pengurangan haemoglobin\n",
    "3. creatinine_phosphokinase - level enzim CPK dalam mcg/L\n",
    "4. diabetes - apakah pasien punya riwayat diabetes\n",
    "5. ejection_fraction - persentase darah yang meninggalkan jantung dalam persentasi\n",
    "di setiap kontraksi jantung\n",
    "6. high_blood_pressure - apakah pasien punya darah tinggi\n",
    "7. platelets - jumlah platelet di darah dalam kiloplatelets/mL\n",
    "8. serum_creatinine - level serum creatinine di darah dalam mg/dL\n",
    "9. serum_sodium - level serum sodium di darah dalam mEq/L\n",
    "10. sex - apakah pasien pria atau wanita\n",
    "11. smoking - apakah pasien merokok\n",
    "12. time - waktu dalam hari untuk follow-up\n",
    "13. DEATH_EVENT - apakah pasien sudah meninggal saat waktu follow-up\n"
   ]
  },
  {
   "cell_type": "markdown",
   "id": "c661b4c1",
   "metadata": {
    "id": "c661b4c1"
   },
   "source": [
    "<h3>Objektif yang ingin dicapai</h3>\n",
    "<hr>"
   ]
  },
  {
   "cell_type": "markdown",
   "id": "e75cd6d7",
   "metadata": {
    "id": "e75cd6d7"
   },
   "source": [
    "1. Mampu memahami konsep Classification dengan Ensemble Model\n",
    "2. Mampu mempersiapkan data untuk digunakan dalam Ensemble Model\n",
    "3. Mampu mengimplementasikan Ensemble Model untuk membuat prediksi"
   ]
  },
  {
   "cell_type": "markdown",
   "id": "f947e9db",
   "metadata": {
    "id": "f947e9db"
   },
   "source": [
    "<h2>2. Import libraries</h2>\n",
    "<hr>"
   ]
  },
  {
   "cell_type": "code",
   "execution_count": 1,
   "id": "X74JRByJ51OL",
   "metadata": {
    "id": "X74JRByJ51OL"
   },
   "outputs": [],
   "source": [
    "# data Manipulasi dan Analisis\n",
    "import pandas as pd\n",
    "import numpy as np\n",
    "\n",
    "# visualisasi Data\n",
    "import matplotlib.pyplot as plt\n",
    "import seaborn as sns\n",
    "\n",
    "# machine Learning dan Pemodelan\n",
    "from sklearn.ensemble import RandomForestClassifier, AdaBoostClassifier, VotingClassifier\n",
    "from sklearn.tree import DecisionTreeClassifier\n",
    "from sklearn.linear_model import LogisticRegression\n",
    "from sklearn.svm import SVC\n",
    "from sklearn.metrics import classification_report\n",
    "from sklearn.model_selection import train_test_split\n",
    "\n",
    "# lainnya\n",
    "import warnings\n",
    "warnings.filterwarnings(\"ignore\")"
   ]
  },
  {
   "cell_type": "markdown",
   "id": "d53cfc98",
   "metadata": {
    "id": "d53cfc98"
   },
   "source": [
    "<h2>3. Data Loading</h2>\n",
    "<hr>"
   ]
  },
  {
   "cell_type": "code",
   "execution_count": 2,
   "id": "6187c94e",
   "metadata": {
    "colab": {
     "base_uri": "https://localhost:8080/",
     "height": 270
    },
    "id": "6187c94e",
    "outputId": "939ab790-5ac4-4efa-cbc8-a2091f9a37f5"
   },
   "outputs": [
    {
     "data": {
      "text/html": [
       "<div>\n",
       "<style scoped>\n",
       "    .dataframe tbody tr th:only-of-type {\n",
       "        vertical-align: middle;\n",
       "    }\n",
       "\n",
       "    .dataframe tbody tr th {\n",
       "        vertical-align: top;\n",
       "    }\n",
       "\n",
       "    .dataframe thead th {\n",
       "        text-align: right;\n",
       "    }\n",
       "</style>\n",
       "<table border=\"1\" class=\"dataframe\">\n",
       "  <thead>\n",
       "    <tr style=\"text-align: right;\">\n",
       "      <th></th>\n",
       "      <th>age</th>\n",
       "      <th>anaemia</th>\n",
       "      <th>creatinine_phosphokinase</th>\n",
       "      <th>diabetes</th>\n",
       "      <th>ejection_fraction</th>\n",
       "      <th>high_blood_pressure</th>\n",
       "      <th>platelets</th>\n",
       "      <th>serum_creatinine</th>\n",
       "      <th>serum_sodium</th>\n",
       "      <th>sex</th>\n",
       "      <th>smoking</th>\n",
       "      <th>time</th>\n",
       "      <th>DEATH_EVENT</th>\n",
       "    </tr>\n",
       "  </thead>\n",
       "  <tbody>\n",
       "    <tr>\n",
       "      <th>0</th>\n",
       "      <td>75.0</td>\n",
       "      <td>0</td>\n",
       "      <td>582</td>\n",
       "      <td>0</td>\n",
       "      <td>20</td>\n",
       "      <td>1</td>\n",
       "      <td>265000.00</td>\n",
       "      <td>1.9</td>\n",
       "      <td>130</td>\n",
       "      <td>1</td>\n",
       "      <td>0</td>\n",
       "      <td>4</td>\n",
       "      <td>1</td>\n",
       "    </tr>\n",
       "    <tr>\n",
       "      <th>1</th>\n",
       "      <td>55.0</td>\n",
       "      <td>0</td>\n",
       "      <td>7861</td>\n",
       "      <td>0</td>\n",
       "      <td>38</td>\n",
       "      <td>0</td>\n",
       "      <td>263358.03</td>\n",
       "      <td>1.1</td>\n",
       "      <td>136</td>\n",
       "      <td>1</td>\n",
       "      <td>0</td>\n",
       "      <td>6</td>\n",
       "      <td>1</td>\n",
       "    </tr>\n",
       "    <tr>\n",
       "      <th>2</th>\n",
       "      <td>65.0</td>\n",
       "      <td>0</td>\n",
       "      <td>146</td>\n",
       "      <td>0</td>\n",
       "      <td>20</td>\n",
       "      <td>0</td>\n",
       "      <td>162000.00</td>\n",
       "      <td>1.3</td>\n",
       "      <td>129</td>\n",
       "      <td>1</td>\n",
       "      <td>1</td>\n",
       "      <td>7</td>\n",
       "      <td>1</td>\n",
       "    </tr>\n",
       "    <tr>\n",
       "      <th>3</th>\n",
       "      <td>50.0</td>\n",
       "      <td>1</td>\n",
       "      <td>111</td>\n",
       "      <td>0</td>\n",
       "      <td>20</td>\n",
       "      <td>0</td>\n",
       "      <td>210000.00</td>\n",
       "      <td>1.9</td>\n",
       "      <td>137</td>\n",
       "      <td>1</td>\n",
       "      <td>0</td>\n",
       "      <td>7</td>\n",
       "      <td>1</td>\n",
       "    </tr>\n",
       "    <tr>\n",
       "      <th>4</th>\n",
       "      <td>65.0</td>\n",
       "      <td>1</td>\n",
       "      <td>160</td>\n",
       "      <td>1</td>\n",
       "      <td>20</td>\n",
       "      <td>0</td>\n",
       "      <td>327000.00</td>\n",
       "      <td>2.7</td>\n",
       "      <td>116</td>\n",
       "      <td>0</td>\n",
       "      <td>0</td>\n",
       "      <td>8</td>\n",
       "      <td>1</td>\n",
       "    </tr>\n",
       "  </tbody>\n",
       "</table>\n",
       "</div>"
      ],
      "text/plain": [
       "    age  anaemia  creatinine_phosphokinase  diabetes  ejection_fraction  \\\n",
       "0  75.0        0                       582         0                 20   \n",
       "1  55.0        0                      7861         0                 38   \n",
       "2  65.0        0                       146         0                 20   \n",
       "3  50.0        1                       111         0                 20   \n",
       "4  65.0        1                       160         1                 20   \n",
       "\n",
       "   high_blood_pressure  platelets  serum_creatinine  serum_sodium  sex  \\\n",
       "0                    1  265000.00               1.9           130    1   \n",
       "1                    0  263358.03               1.1           136    1   \n",
       "2                    0  162000.00               1.3           129    1   \n",
       "3                    0  210000.00               1.9           137    1   \n",
       "4                    0  327000.00               2.7           116    0   \n",
       "\n",
       "   smoking  time  DEATH_EVENT  \n",
       "0        0     4            1  \n",
       "1        0     6            1  \n",
       "2        1     7            1  \n",
       "3        0     7            1  \n",
       "4        0     8            1  "
      ]
     },
     "execution_count": 2,
     "metadata": {},
     "output_type": "execute_result"
    }
   ],
   "source": [
    "# deteksi berbagai format non standard missing values\n",
    "missing_values = ['n/a', 'na', \"--\", \"?\", \"NA\", 'n-a', 'NaN',' ',' - ']\n",
    "\n",
    "# read dataset\n",
    "df = pd.read_csv('./dataset/heart_failure_clinical_records_dataset.csv', na_values=missing_values)\n",
    "\n",
    "# menampilkan tampilan kolom full\n",
    "pd.set_option('display.max_columns', 500)\n",
    "\n",
    "# menampilkan dataset\n",
    "df.head()"
   ]
  },
  {
   "cell_type": "code",
   "execution_count": 3,
   "id": "7e30c1ae",
   "metadata": {
    "colab": {
     "base_uri": "https://localhost:8080/"
    },
    "id": "7e30c1ae",
    "outputId": "183fcd67-869f-436f-ea11-c4b62ad0cff6"
   },
   "outputs": [
    {
     "data": {
      "text/plain": [
       "(299, 13)"
      ]
     },
     "execution_count": 3,
     "metadata": {},
     "output_type": "execute_result"
    }
   ],
   "source": [
    "# melihat dimensi dataset\n",
    "df.shape"
   ]
  },
  {
   "cell_type": "code",
   "execution_count": 4,
   "id": "6890f8a9",
   "metadata": {
    "colab": {
     "base_uri": "https://localhost:8080/"
    },
    "id": "6890f8a9",
    "outputId": "670aee00-3411-4476-9d9f-022e6e71a7b1"
   },
   "outputs": [
    {
     "data": {
      "text/plain": [
       "array(['age', 'anaemia', 'creatinine_phosphokinase', 'diabetes',\n",
       "       'ejection_fraction', 'high_blood_pressure', 'platelets',\n",
       "       'serum_creatinine', 'serum_sodium', 'sex', 'smoking', 'time',\n",
       "       'DEATH_EVENT'], dtype=object)"
      ]
     },
     "execution_count": 4,
     "metadata": {},
     "output_type": "execute_result"
    }
   ],
   "source": [
    "# melihat attribut yang ada pada dataset\n",
    "df.columns.values"
   ]
  },
  {
   "cell_type": "code",
   "execution_count": 5,
   "id": "c64371f4",
   "metadata": {
    "colab": {
     "base_uri": "https://localhost:8080/"
    },
    "id": "c64371f4",
    "outputId": "22a95658-708a-431f-e1ea-432cb0e26169"
   },
   "outputs": [
    {
     "name": "stdout",
     "output_type": "stream",
     "text": [
      "<class 'pandas.core.frame.DataFrame'>\n",
      "RangeIndex: 299 entries, 0 to 298\n",
      "Data columns (total 13 columns):\n",
      " #   Column                    Non-Null Count  Dtype  \n",
      "---  ------                    --------------  -----  \n",
      " 0   age                       299 non-null    float64\n",
      " 1   anaemia                   299 non-null    int64  \n",
      " 2   creatinine_phosphokinase  299 non-null    int64  \n",
      " 3   diabetes                  299 non-null    int64  \n",
      " 4   ejection_fraction         299 non-null    int64  \n",
      " 5   high_blood_pressure       299 non-null    int64  \n",
      " 6   platelets                 299 non-null    float64\n",
      " 7   serum_creatinine          299 non-null    float64\n",
      " 8   serum_sodium              299 non-null    int64  \n",
      " 9   sex                       299 non-null    int64  \n",
      " 10  smoking                   299 non-null    int64  \n",
      " 11  time                      299 non-null    int64  \n",
      " 12  DEATH_EVENT               299 non-null    int64  \n",
      "dtypes: float64(3), int64(10)\n",
      "memory usage: 30.5 KB\n"
     ]
    }
   ],
   "source": [
    "# melihat informasi dari dataset\n",
    "df.info()"
   ]
  },
  {
   "cell_type": "markdown",
   "id": "db808dea",
   "metadata": {
    "id": "db808dea"
   },
   "source": [
    "<h2>4. Data Cleaning</h2>\n",
    "<hr>"
   ]
  },
  {
   "cell_type": "code",
   "execution_count": 6,
   "id": "aff9ba32",
   "metadata": {
    "colab": {
     "base_uri": "https://localhost:8080/"
    },
    "id": "aff9ba32",
    "outputId": "1f683be9-fe60-4951-dcc3-9fbfb0295f69"
   },
   "outputs": [
    {
     "data": {
      "text/plain": [
       "age                         False\n",
       "anaemia                     False\n",
       "creatinine_phosphokinase    False\n",
       "diabetes                    False\n",
       "ejection_fraction           False\n",
       "high_blood_pressure         False\n",
       "platelets                   False\n",
       "serum_creatinine            False\n",
       "serum_sodium                False\n",
       "sex                         False\n",
       "smoking                     False\n",
       "time                        False\n",
       "DEATH_EVENT                 False\n",
       "dtype: bool"
      ]
     },
     "execution_count": 6,
     "metadata": {},
     "output_type": "execute_result"
    }
   ],
   "source": [
    "# menampilkan apakah di setiap attribute ada missing value dengan tampilan boolean (true/false)\n",
    "df.isna().any()"
   ]
  },
  {
   "cell_type": "code",
   "execution_count": 7,
   "id": "4e6265ca",
   "metadata": {
    "colab": {
     "base_uri": "https://localhost:8080/"
    },
    "id": "4e6265ca",
    "outputId": "873ce04a-de74-424b-e314-63dcf45cc339"
   },
   "outputs": [
    {
     "data": {
      "text/plain": [
       "age                         0\n",
       "anaemia                     0\n",
       "creatinine_phosphokinase    0\n",
       "diabetes                    0\n",
       "ejection_fraction           0\n",
       "high_blood_pressure         0\n",
       "platelets                   0\n",
       "serum_creatinine            0\n",
       "serum_sodium                0\n",
       "sex                         0\n",
       "smoking                     0\n",
       "time                        0\n",
       "DEATH_EVENT                 0\n",
       "dtype: int64"
      ]
     },
     "execution_count": 7,
     "metadata": {},
     "output_type": "execute_result"
    }
   ],
   "source": [
    "# menampilkan jumlah missing value pada dataset\n",
    "df.isna().sum()"
   ]
  },
  {
   "cell_type": "code",
   "execution_count": 8,
   "id": "ae555a6e",
   "metadata": {
    "id": "ae555a6e",
    "outputId": "c0bc7e00-6b9c-4f1d-ae58-c2036b55151b"
   },
   "outputs": [
    {
     "name": "stdout",
     "output_type": "stream",
     "text": [
      "<class 'pandas.core.frame.DataFrame'>\n",
      "RangeIndex: 299 entries, 0 to 298\n",
      "Data columns (total 13 columns):\n",
      " #   Column                    Non-Null Count  Dtype  \n",
      "---  ------                    --------------  -----  \n",
      " 0   age                       299 non-null    float64\n",
      " 1   anaemia                   299 non-null    int64  \n",
      " 2   creatinine_phosphokinase  299 non-null    int64  \n",
      " 3   diabetes                  299 non-null    int64  \n",
      " 4   ejection_fraction         299 non-null    int64  \n",
      " 5   high_blood_pressure       299 non-null    int64  \n",
      " 6   platelets                 299 non-null    float64\n",
      " 7   serum_creatinine          299 non-null    float64\n",
      " 8   serum_sodium              299 non-null    int64  \n",
      " 9   sex                       299 non-null    int64  \n",
      " 10  smoking                   299 non-null    int64  \n",
      " 11  time                      299 non-null    int64  \n",
      " 12  DEATH_EVENT               299 non-null    int64  \n",
      "dtypes: float64(3), int64(10)\n",
      "memory usage: 30.5 KB\n"
     ]
    }
   ],
   "source": [
    "# melihat informasi dari dataset\n",
    "df.info()"
   ]
  },
  {
   "cell_type": "code",
   "execution_count": 9,
   "id": "06e75408",
   "metadata": {
    "id": "06e75408",
    "outputId": "0b165157-7d61-46ce-afea-417441c1fe74"
   },
   "outputs": [
    {
     "data": {
      "text/plain": [
       "0"
      ]
     },
     "execution_count": 9,
     "metadata": {},
     "output_type": "execute_result"
    }
   ],
   "source": [
    "# melihat apakah ada data duplikat pada dataset\n",
    "df.duplicated().sum()"
   ]
  },
  {
   "cell_type": "code",
   "execution_count": 12,
   "id": "9c63edfc",
   "metadata": {
    "id": "9c63edfc",
    "outputId": "128dbff9-aa59-407d-c8ef-b945b4888bf0"
   },
   "outputs": [
    {
     "data": {
      "text/html": [
       "<div>\n",
       "<style scoped>\n",
       "    .dataframe tbody tr th:only-of-type {\n",
       "        vertical-align: middle;\n",
       "    }\n",
       "\n",
       "    .dataframe tbody tr th {\n",
       "        vertical-align: top;\n",
       "    }\n",
       "\n",
       "    .dataframe thead th {\n",
       "        text-align: right;\n",
       "    }\n",
       "</style>\n",
       "<table border=\"1\" class=\"dataframe\">\n",
       "  <thead>\n",
       "    <tr style=\"text-align: right;\">\n",
       "      <th></th>\n",
       "      <th>age</th>\n",
       "      <th>anaemia</th>\n",
       "      <th>creatinine_phosphokinase</th>\n",
       "      <th>diabetes</th>\n",
       "      <th>ejection_fraction</th>\n",
       "      <th>high_blood_pressure</th>\n",
       "      <th>platelets</th>\n",
       "      <th>serum_creatinine</th>\n",
       "      <th>serum_sodium</th>\n",
       "      <th>sex</th>\n",
       "      <th>smoking</th>\n",
       "      <th>time</th>\n",
       "      <th>DEATH_EVENT</th>\n",
       "    </tr>\n",
       "  </thead>\n",
       "  <tbody>\n",
       "    <tr>\n",
       "      <th>0</th>\n",
       "      <td>75.0</td>\n",
       "      <td>0</td>\n",
       "      <td>582</td>\n",
       "      <td>0</td>\n",
       "      <td>20</td>\n",
       "      <td>1</td>\n",
       "      <td>265000.00</td>\n",
       "      <td>1.9</td>\n",
       "      <td>130</td>\n",
       "      <td>1</td>\n",
       "      <td>0</td>\n",
       "      <td>4</td>\n",
       "      <td>1</td>\n",
       "    </tr>\n",
       "    <tr>\n",
       "      <th>1</th>\n",
       "      <td>55.0</td>\n",
       "      <td>0</td>\n",
       "      <td>7861</td>\n",
       "      <td>0</td>\n",
       "      <td>38</td>\n",
       "      <td>0</td>\n",
       "      <td>263358.03</td>\n",
       "      <td>1.1</td>\n",
       "      <td>136</td>\n",
       "      <td>1</td>\n",
       "      <td>0</td>\n",
       "      <td>6</td>\n",
       "      <td>1</td>\n",
       "    </tr>\n",
       "    <tr>\n",
       "      <th>2</th>\n",
       "      <td>65.0</td>\n",
       "      <td>0</td>\n",
       "      <td>146</td>\n",
       "      <td>0</td>\n",
       "      <td>20</td>\n",
       "      <td>0</td>\n",
       "      <td>162000.00</td>\n",
       "      <td>1.3</td>\n",
       "      <td>129</td>\n",
       "      <td>1</td>\n",
       "      <td>1</td>\n",
       "      <td>7</td>\n",
       "      <td>1</td>\n",
       "    </tr>\n",
       "    <tr>\n",
       "      <th>3</th>\n",
       "      <td>50.0</td>\n",
       "      <td>1</td>\n",
       "      <td>111</td>\n",
       "      <td>0</td>\n",
       "      <td>20</td>\n",
       "      <td>0</td>\n",
       "      <td>210000.00</td>\n",
       "      <td>1.9</td>\n",
       "      <td>137</td>\n",
       "      <td>1</td>\n",
       "      <td>0</td>\n",
       "      <td>7</td>\n",
       "      <td>1</td>\n",
       "    </tr>\n",
       "    <tr>\n",
       "      <th>4</th>\n",
       "      <td>65.0</td>\n",
       "      <td>1</td>\n",
       "      <td>160</td>\n",
       "      <td>1</td>\n",
       "      <td>20</td>\n",
       "      <td>0</td>\n",
       "      <td>327000.00</td>\n",
       "      <td>2.7</td>\n",
       "      <td>116</td>\n",
       "      <td>0</td>\n",
       "      <td>0</td>\n",
       "      <td>8</td>\n",
       "      <td>1</td>\n",
       "    </tr>\n",
       "  </tbody>\n",
       "</table>\n",
       "</div>"
      ],
      "text/plain": [
       "    age  anaemia  creatinine_phosphokinase  diabetes  ejection_fraction  \\\n",
       "0  75.0        0                       582         0                 20   \n",
       "1  55.0        0                      7861         0                 38   \n",
       "2  65.0        0                       146         0                 20   \n",
       "3  50.0        1                       111         0                 20   \n",
       "4  65.0        1                       160         1                 20   \n",
       "\n",
       "   high_blood_pressure  platelets  serum_creatinine  serum_sodium  sex  \\\n",
       "0                    1  265000.00               1.9           130    1   \n",
       "1                    0  263358.03               1.1           136    1   \n",
       "2                    0  162000.00               1.3           129    1   \n",
       "3                    0  210000.00               1.9           137    1   \n",
       "4                    0  327000.00               2.7           116    0   \n",
       "\n",
       "   smoking  time  DEATH_EVENT  \n",
       "0        0     4            1  \n",
       "1        0     6            1  \n",
       "2        1     7            1  \n",
       "3        0     7            1  \n",
       "4        0     8            1  "
      ]
     },
     "execution_count": 12,
     "metadata": {},
     "output_type": "execute_result"
    }
   ],
   "source": [
    "# menampilkan dataset\n",
    "df.head()"
   ]
  },
  {
   "cell_type": "markdown",
   "id": "e46c07de",
   "metadata": {
    "id": "e46c07de"
   },
   "source": [
    "<h2>5. Explorasi Data</h2>\n",
    "<hr>"
   ]
  },
  {
   "cell_type": "code",
   "execution_count": 13,
   "id": "c50aa4ba",
   "metadata": {
    "id": "c50aa4ba",
    "outputId": "61395431-e04e-44f4-b63a-33abe17217b2"
   },
   "outputs": [
    {
     "data": {
      "image/png": "[encoded data removed]",
      "text/plain": [
       "<Figure size 864x576 with 1 Axes>"
      ]
     },
     "metadata": {
      "needs_background": "light"
     },
     "output_type": "display_data"
    }
   ],
   "source": [
    "# menampilkan boxplot untuk melihat outlier pada kolom atribut numerik\n",
    "numeric_columns = df.select_dtypes(include=['float64', 'int64']).columns\n",
    "\n",
    "plt.figure(figsize=(12, 8))\n",
    "df[numeric_columns].boxplot()\n",
    "plt.xticks(rotation=45)\n",
    "plt.title('Boxplot of Numeric Attributes')\n",
    "plt.show()"
   ]
  },
  {
   "cell_type": "code",
   "execution_count": 14,
   "id": "c8943b0b",
   "metadata": {
    "id": "c8943b0b",
    "outputId": "cdd953e4-a558-4e16-8868-80656cfd26d7"
   },
   "outputs": [
    {
     "ename": "NameError",
     "evalue": "name 'stats' is not defined",
     "output_type": "error",
     "traceback": [
      "\u001b[1;31m---------------------------------------------------------------------------\u001b[0m",
      "\u001b[1;31mNameError\u001b[0m                                 Traceback (most recent call last)",
      "Input \u001b[1;32mIn [14]\u001b[0m, in \u001b[0;36m<cell line: 4>\u001b[1;34m()\u001b[0m\n\u001b[0;32m      1\u001b[0m \u001b[38;5;66;03m# handling outlier dengan mengganti nilai outlier dengan nilai yang masuk akal\u001b[39;00m\n\u001b[0;32m      2\u001b[0m \n\u001b[0;32m      3\u001b[0m \u001b[38;5;66;03m# loop melalui setiap kolom numerik\u001b[39;00m\n\u001b[0;32m      4\u001b[0m \u001b[38;5;28;01mfor\u001b[39;00m column \u001b[38;5;129;01min\u001b[39;00m numeric_columns:\n\u001b[0;32m      5\u001b[0m     \u001b[38;5;66;03m# menghitung z-score untuk kolom saat ini\u001b[39;00m\n\u001b[1;32m----> 6\u001b[0m     z_scores \u001b[38;5;241m=\u001b[39m np\u001b[38;5;241m.\u001b[39mabs(\u001b[43mstats\u001b[49m\u001b[38;5;241m.\u001b[39mzscore(df[column]))\n\u001b[0;32m      8\u001b[0m     \u001b[38;5;66;03m# menentukan threshold z-score untuk outlier (misalnya, jika z-score > 3)\u001b[39;00m\n\u001b[0;32m      9\u001b[0m     threshold \u001b[38;5;241m=\u001b[39m \u001b[38;5;241m3\u001b[39m\n",
      "\u001b[1;31mNameError\u001b[0m: name 'stats' is not defined"
     ]
    }
   ],
   "source": [
    "# handling outlier dengan mengganti nilai outlier dengan nilai yang masuk akal\n",
    "\n",
    "# loop melalui setiap kolom numerik\n",
    "for column in numeric_columns:\n",
    "    # menghitung z-score untuk kolom saat ini\n",
    "    z_scores = np.abs(stats.zscore(df[column]))\n",
    "\n",
    "    # menentukan threshold z-score untuk outlier (misalnya, jika z-score > 3)\n",
    "    threshold = 3\n",
    "\n",
    "    # mengidentifikasi baris yang merupakan outlier berdasarkan z-score\n",
    "    outliers = df[z_scores > threshold]\n",
    "\n",
    "    # menggantikan outlier dengan nilai yang masuk akal\n",
    "    replacement_value = df[column].median()  # Menggunakan median sebagai nilai pengganti\n",
    "    df.loc[z_scores > threshold, column] = replacement_value\n",
    "\n",
    "# menampilkan bentuk (shape) dataset setelah menggantikan outlier\n",
    "print(\"Bentuk Shape: \", df.shape)"
   ]
  },
  {
   "cell_type": "code",
   "execution_count": null,
   "id": "12c73ba6",
   "metadata": {
    "id": "12c73ba6",
    "outputId": "9e2a9519-5415-418f-c385-154e1f256843"
   },
   "outputs": [],
   "source": [
    "# menampilkan boxplot untuk melihat outlier pada kolom atribut numerik\n",
    "numeric_columns = df.select_dtypes(include=['float64', 'int64']).columns\n",
    "\n",
    "plt.figure(figsize=(12, 8))\n",
    "df[numeric_columns].boxplot()\n",
    "plt.xticks(rotation=45)\n",
    "plt.title('Boxplot of Numeric Attributes')\n",
    "plt.show()"
   ]
  },
  {
   "cell_type": "code",
   "execution_count": null,
   "id": "eb5426a4",
   "metadata": {
    "id": "eb5426a4",
    "outputId": "073034be-4d58-45a9-e1b3-0526f06c58ac"
   },
   "outputs": [],
   "source": [
    "# melihat informasi dari dataset\n",
    "df.info()"
   ]
  },
  {
   "cell_type": "code",
   "execution_count": null,
   "id": "1bde922d",
   "metadata": {
    "id": "1bde922d",
    "outputId": "6b2ce07c-f177-491f-db02-b444b0375db0"
   },
   "outputs": [],
   "source": [
    "# menghitung value pada kolom attribut RainToday\n",
    "df['RainToday'].value_counts().plot(kind='bar', figsize=(10,5))"
   ]
  },
  {
   "cell_type": "code",
   "execution_count": null,
   "id": "e398e34f",
   "metadata": {
    "id": "e398e34f",
    "outputId": "706708dd-d232-4247-c75b-21fabc5474a5"
   },
   "outputs": [],
   "source": [
    "# menghitung jumlah hari hujan dan tidak hujan\n",
    "rainy_days = df[df['RainToday'] == 'Yes'].shape[0]\n",
    "non_rainy_days = df[df['RainToday'] == 'No'].shape[0]\n",
    "\n",
    "# membuat labels dan sizes untuk pie chart\n",
    "labels = ['Hujan', 'Tidak Hujan']\n",
    "sizes = [rainy_days, non_rainy_days]\n",
    "\n",
    "# membuat pie chart\n",
    "plt.figure(figsize=(6, 6))\n",
    "plt.pie(sizes, labels=labels, autopct='%1.1f%%', startangle=90)\n",
    "plt.title('Persentase Hari ini Hujan dan Tidak Hujan')\n",
    "plt.axis('equal')\n",
    "plt.show()"
   ]
  },
  {
   "cell_type": "code",
   "execution_count": null,
   "id": "25e58c09",
   "metadata": {
    "id": "25e58c09",
    "outputId": "433d489c-d663-4dfa-e3bd-d6c7aaa8fef9"
   },
   "outputs": [],
   "source": [
    "# menghitung value pada kolom attribut RainTomorrow\n",
    "df['RainTomorrow'].value_counts().plot(kind='bar', figsize=(10,5))"
   ]
  },
  {
   "cell_type": "code",
   "execution_count": null,
   "id": "ae5f7f66",
   "metadata": {
    "id": "ae5f7f66",
    "outputId": "68a04d59-9ef0-4249-b92e-87415f01ebe0"
   },
   "outputs": [],
   "source": [
    "# menghitung jumlah hari hujan dan tidak hujan\n",
    "rainy_days_tomorrow = df[df['RainTomorrow'] == 'Yes'].shape[0]\n",
    "non_rainy_days_tomorrow = df[df['RainToday'] == 'No'].shape[0]\n",
    "\n",
    "# membuat labels dan sizes untuk pie chart\n",
    "labels = ['Hujan', 'Tidak Hujan']\n",
    "sizes = [rainy_days_tomorrow, non_rainy_days_tomorrow]\n",
    "\n",
    "# membuat pie chart\n",
    "plt.figure(figsize=(6, 6))\n",
    "plt.pie(sizes, labels=labels, autopct='%1.1f%%', startangle=90)\n",
    "plt.title('Persentase Besok Hujan dan Tidak Hujan')\n",
    "plt.axis('equal')\n",
    "plt.show()"
   ]
  },
  {
   "cell_type": "code",
   "execution_count": null,
   "id": "405a266e",
   "metadata": {
    "id": "405a266e",
    "outputId": "3f30651e-4895-4ece-d2fe-a80fdddd7b8b"
   },
   "outputs": [],
   "source": [
    "# menghitung jumlah hari hujan berdasarkan lokasi\n",
    "rainy_days = df[df['RainToday'] == 'Yes']['Location'].value_counts()\n",
    "\n",
    "# mengurutkan berdasarkan jumlah hari hujan\n",
    "rainy_days = rainy_days.sort_values(ascending=False)\n",
    "\n",
    "# mengambil 10 lokasi dengan jumlah hari hujan tertinggi\n",
    "top_10_locations = rainy_days.head(10)\n",
    "\n",
    "# membuat bar chart\n",
    "plt.figure(figsize=(10, 6))\n",
    "top_10_locations.plot(kind='bar')\n",
    "plt.title('10 Lokasi Teratas dengan Hari Hujan Terbanyak')\n",
    "plt.xlabel('Lokasi')\n",
    "plt.ylabel('Jumlah Hari Hujan')\n",
    "plt.xticks(rotation=45)\n",
    "plt.show()"
   ]
  },
  {
   "cell_type": "markdown",
   "id": "d50e6bdc",
   "metadata": {
    "id": "d50e6bdc"
   },
   "source": [
    "<h2>6. Data Preprocessing</h2>\n",
    "<hr>"
   ]
  },
  {
   "cell_type": "code",
   "execution_count": null,
   "id": "5897e3a4",
   "metadata": {
    "id": "5897e3a4",
    "outputId": "bf73e2d2-0bf1-4407-86aa-f958e31df1fe"
   },
   "outputs": [],
   "source": [
    "# menampilkan statistik deskriptif dari kolom-kolom numerik pada dataset\n",
    "df.describe()"
   ]
  },
  {
   "cell_type": "code",
   "execution_count": null,
   "id": "1d7a7a04",
   "metadata": {
    "id": "1d7a7a04",
    "outputId": "1c8da29f-0f62-4d78-a28c-cf4b97045ca2"
   },
   "outputs": [],
   "source": [
    "# menampilkan statistik deskriptif dari kolom-kolom objek pada dataset\n",
    "df.describe(include = 'object')"
   ]
  },
  {
   "cell_type": "code",
   "execution_count": null,
   "id": "539d3702",
   "metadata": {
    "id": "539d3702",
    "outputId": "9447f866-4c36-4e10-80bf-68ff5b360681"
   },
   "outputs": [],
   "source": [
    "# menghitung nilai unik pada Location\n",
    "df.Location.value_counts()"
   ]
  },
  {
   "cell_type": "code",
   "execution_count": null,
   "id": "0144f66d",
   "metadata": {
    "id": "0144f66d",
    "outputId": "d752630f-675b-44f6-d4ec-31a0045315ae"
   },
   "outputs": [],
   "source": [
    "# menghitung nilai unik pada kolom WindDir3pm\n",
    "df.WindDir3pm.value_counts()"
   ]
  },
  {
   "cell_type": "code",
   "execution_count": null,
   "id": "0f4a3928",
   "metadata": {
    "id": "0f4a3928",
    "outputId": "99ed571b-5b8d-472e-fdb4-bcb7f2a01e4f"
   },
   "outputs": [],
   "source": [
    "# menghitung nilai unik pada kolom RainToday\n",
    "df.RainToday.value_counts()"
   ]
  },
  {
   "cell_type": "code",
   "execution_count": null,
   "id": "d3419b2f",
   "metadata": {
    "id": "d3419b2f",
    "outputId": "5b527d59-b4df-460f-9130-2fcdc4d485d5"
   },
   "outputs": [],
   "source": [
    "# menghitung nilai unik pada kolom RainTomorrow\n",
    "df.RainTomorrow.value_counts()"
   ]
  },
  {
   "cell_type": "code",
   "execution_count": null,
   "id": "534ff2e4",
   "metadata": {
    "id": "534ff2e4"
   },
   "outputs": [],
   "source": [
    "# mengubah nilai kolom kategorikal pada RainToday dan RainTomorrow menjadi nilai biner\n",
    "df['RainToday'] = np.where(df['RainToday'] == 'Yes', 1, 0)\n",
    "df['RainTomorrow'] = np.where(df['RainTomorrow'] == 'Yes', 1, 0)"
   ]
  },
  {
   "cell_type": "code",
   "execution_count": null,
   "id": "05349578",
   "metadata": {
    "id": "05349578",
    "outputId": "8aacc0e2-713b-4fce-b02b-ceaf34dfa502"
   },
   "outputs": [],
   "source": [
    "# melakukan operasi one hot encoding meribah variabel kategorikal ke numerik\n",
    "df = pd.get_dummies(df)\n",
    "\n",
    "# menampilkan 5 data teratas dari dataset yang sudah dilakukan operasi one hot encoding\n",
    "df.head()"
   ]
  },
  {
   "cell_type": "code",
   "execution_count": null,
   "id": "b8390dfc",
   "metadata": {
    "id": "b8390dfc"
   },
   "outputs": [],
   "source": [
    "# buat variabel x berisi semua kolom-kolom yang ada kecuali kolom RainTomorrow\n",
    "X = df.drop(columns = 'RainTomorrow')\n",
    "\n",
    "# buat variabel y berisi kolom RainTomorrow\n",
    "y = df['RainTomorrow']"
   ]
  },
  {
   "cell_type": "code",
   "execution_count": null,
   "id": "dfddbffd",
   "metadata": {
    "id": "dfddbffd"
   },
   "outputs": [],
   "source": [
    "# membuat data latih dan data uji dengan indikasi 30% ke data uji 70% ke data latih \n",
    "X_train, X_test, y_train, y_test = train_test_split(X, y, test_size = 0.3, random_state=0)"
   ]
  },
  {
   "cell_type": "code",
   "execution_count": null,
   "id": "e0e717e9",
   "metadata": {
    "id": "e0e717e9"
   },
   "outputs": [],
   "source": [
    "# penskalaan fitur\n",
    "scaler = StandardScaler()\n",
    "X_train = scaler.fit_transform(X_train)\n",
    "X_test = scaler.transform(X_test)"
   ]
  },
  {
   "cell_type": "code",
   "execution_count": null,
   "id": "f1b7ccab",
   "metadata": {
    "id": "f1b7ccab"
   },
   "outputs": [],
   "source": [
    "# seleksi fitur\n",
    "selector = SelectKBest(score_func=f_classif, k=10)\n",
    "X_train = selector.fit_transform(X_train, y_train)\n",
    "X_test = selector.transform(X_test)"
   ]
  },
  {
   "cell_type": "markdown",
   "id": "106522a2",
   "metadata": {
    "id": "106522a2"
   },
   "source": [
    "<h2>7. Pendefinisian Model</h2>\n",
    "<hr>"
   ]
  },
  {
   "cell_type": "code",
   "execution_count": null,
   "id": "f26cbb89",
   "metadata": {
    "id": "f26cbb89"
   },
   "outputs": [],
   "source": [
    "# membuat objek model regresi linear dengan library scikit-learn\n",
    "logreg = LogisticRegression()\n",
    "svm = SVC()"
   ]
  },
  {
   "cell_type": "markdown",
   "id": "f6511f83",
   "metadata": {
    "id": "f6511f83"
   },
   "source": [
    "<h2>Logistic Regression dan Support Vector Machine</h2>\n",
    "\n",
    "<b>Logistic regression</b> adalah jenis analisis statistik yang sering digunakan data analyst untuk pemodelan prediktif. Dalam pendekatan analitik ini, variabel dependennya terbatas atau kategoris, bisa berupa A atau B (regresi biner) atau berbagai opsi hingga A, B, C atau D (regresi multinomial). Jenis analisis statistik digunakan dalam software statistik untuk memahami hubungan antara variabel dependen dan satu atau lebih variabel independen dengan memperkirakan probabilitas.\n",
    "\n",
    "<b>Support Vector Machine</b> (SVM) adalah salah satu algoritma machine learning dengan pendekatan supervised learning yang bekerja dengan mencari hyperplane atau fungsi pemisah terbaik untuk memisahkan kelas. Algoritma SVM memiliki konsep dan dasar matematis yang mapan sehingga menjadi algoritma yang populer. Algoritma ini dapat digunakan untuk klasifikasi (SVM classification) dan regresi (SVM regression)."
   ]
  },
  {
   "cell_type": "markdown",
   "id": "bc3395b6",
   "metadata": {
    "id": "bc3395b6"
   },
   "source": [
    "<h2>Alasan Memilih Logistic Regression dan Support Vector Machine</h2>\n",
    "\n",
    "Dalam pendefinisian model kami menggunakan model LogisticRegression dan SVM untuk memprediksi RainTomorrow. Alasan mengapa kami memilih 2 model tersebut:\n",
    "\n",
    "1. Logistic Regression\n",
    "    - Mudah untuk diinterpretasikan. Model ini menghasilkan probabilitas kelas yang dapat diartikan sebagai kepercayaan model terhadap kelas target.\n",
    "    - Cukup efisien dan memiliki waktu komputasi yang cepat, terutama pada dataset yang relatif besar.\n",
    "    \n",
    "2. Support Vector Machine\n",
    "    - Dapat bekerja dengan baik pada dataset yang memiliki dimensi tinggi dan jumlah fitur yang besar.\n",
    "    - SVM juga memiliki dukungan untuk menangani data yang tidak seimbang (imbalanced data) dengan memberikan bobot pada setiap sampel dalam proses pembelajaran."
   ]
  },
  {
   "cell_type": "markdown",
   "id": "b6c783e6",
   "metadata": {
    "id": "b6c783e6"
   },
   "source": [
    "<h2>8. Pelatihan Model</h2>\n",
    "<hr>"
   ]
  },
  {
   "cell_type": "code",
   "execution_count": null,
   "id": "d3230003",
   "metadata": {
    "id": "d3230003",
    "outputId": "2b877a94-7f20-4ba8-adf2-34997ee87fff"
   },
   "outputs": [],
   "source": [
    "# melatih model logistic regression\n",
    "logreg.fit(X_train, y_train)"
   ]
  },
  {
   "cell_type": "code",
   "execution_count": null,
   "id": "188f4f6b",
   "metadata": {
    "id": "188f4f6b",
    "outputId": "a511509c-0bf2-4231-9b80-64ed48076143"
   },
   "outputs": [],
   "source": [
    "# melatih model SVM\n",
    "svm.fit(X_train, y_train)"
   ]
  },
  {
   "cell_type": "markdown",
   "id": "b21089bf",
   "metadata": {
    "id": "b21089bf"
   },
   "source": [
    "<h2>9. Evaluasi Model</h2>\n",
    "<hr>"
   ]
  },
  {
   "cell_type": "code",
   "execution_count": null,
   "id": "eca48614",
   "metadata": {
    "id": "eca48614",
    "outputId": "be3aa0f1-ecba-44ed-98d3-49a1008172e9"
   },
   "outputs": [],
   "source": [
    "# memprediksi data uji logistic regression\n",
    "y_pred_log = logreg.predict(X_test)\n",
    "\n",
    "# evaluasi performa model\n",
    "report = classification_report(y_test, y_pred_log)\n",
    "print(report)"
   ]
  },
  {
   "cell_type": "code",
   "execution_count": null,
   "id": "a76d8240",
   "metadata": {
    "id": "a76d8240",
    "outputId": "672eb7a6-807d-420a-ee67-acd64807fff4"
   },
   "outputs": [],
   "source": [
    "# memprediksi data uji SVM\n",
    "y_pred_svm = svm.predict(X_test)\n",
    "\n",
    "# evaluasi performa model\n",
    "report = classification_report(y_test, y_pred_svm)\n",
    "print(report)"
   ]
  },
  {
   "cell_type": "markdown",
   "id": "f323f85e",
   "metadata": {
    "id": "f323f85e"
   },
   "source": [
    "<h2>10. Model Inference</h2>\n",
    "<hr>"
   ]
  },
  {
   "cell_type": "code",
   "execution_count": null,
   "id": "09e50ded",
   "metadata": {
    "id": "09e50ded"
   },
   "outputs": [],
   "source": [
    "# membuat salinan dari dataset yang ada dan menyimpan di variabel baru X_to_test\n",
    "X_to_test = df.copy()"
   ]
  },
  {
   "cell_type": "code",
   "execution_count": null,
   "id": "9f8265c4",
   "metadata": {
    "id": "9f8265c4",
    "outputId": "85c29330-7ce1-491b-d485-7ad408f17589"
   },
   "outputs": [],
   "source": [
    "# menghitung jumlah missing value pada dataset X_to_test\n",
    "X_to_test.isna().sum()"
   ]
  },
  {
   "cell_type": "code",
   "execution_count": null,
   "id": "475df5a6",
   "metadata": {
    "id": "475df5a6",
    "outputId": "4e0fdb38-bbfe-4108-9575-9500da1fbd58"
   },
   "outputs": [],
   "source": [
    "# menampilkan 10 data teratas pada dataset X_to_test\n",
    "X_to_test.head(10)"
   ]
  },
  {
   "cell_type": "code",
   "execution_count": null,
   "id": "150e96c6",
   "metadata": {
    "id": "150e96c6"
   },
   "outputs": [],
   "source": [
    "# memilih fitur tertentu untuk data latih\n",
    "selected_features = ['RainTomorrow', 'MinTemp', 'MaxTemp', 'Rainfall', 'WindGustSpeed', 'WindSpeed9am', 'WindSpeed3pm', 'Humidity9am', 'Humidity3pm', 'Pressure9am', 'Pressure3pm', 'Temp9am']  # memilih 10 fitur\n",
    "\n",
    "# Filter the columns of X_to_test to include only the selected feature filter kolom X_to_test untuk memasukkan hanya fitur pilihan\n",
    "X_to_test_filtered = X_to_test[selected_features]"
   ]
  },
  {
   "cell_type": "code",
   "execution_count": null,
   "id": "8f191d4e",
   "metadata": {
    "id": "8f191d4e",
    "outputId": "2eda8b1d-b980-4ae8-ebac-275dc7b8f1a1"
   },
   "outputs": [],
   "source": [
    "# menampilkan 10 data teratas pada dataset X_to_test\n",
    "X_to_test_filtered.head(10)"
   ]
  },
  {
   "cell_type": "code",
   "execution_count": null,
   "id": "049a434a",
   "metadata": {
    "id": "049a434a"
   },
   "outputs": [],
   "source": [
    "# dictionary berisi value attribut yang akan digunakan untuk inferensi atau prediksi\n",
    "to_inference = {'MinTemp' : [17.1],\n",
    "                'MaxTemp' : [34.4],\n",
    "                'WindGustSpeed' : [50],\n",
    "                'WindSpeed9am' : [17],\n",
    "                'WindSpeed3pm' : [24],\n",
    "                'Humidity9am' : [70],\n",
    "                'Humidity3pm' : [30],\n",
    "                'Pressure9am' : [1001.0],\n",
    "                'Pressure3pm' : [1000.5],\n",
    "                'Temp9am' : [20]}"
   ]
  },
  {
   "cell_type": "code",
   "execution_count": null,
   "id": "d43620b6",
   "metadata": {
    "id": "d43620b6",
    "outputId": "ebb1268b-e349-46c6-a7f3-7f7045354aa7"
   },
   "outputs": [],
   "source": [
    "# membuat Dataset dari dicionary to_inference\n",
    "pd.DataFrame(to_inference)"
   ]
  },
  {
   "cell_type": "code",
   "execution_count": null,
   "id": "feedbd07",
   "metadata": {
    "id": "feedbd07"
   },
   "outputs": [],
   "source": [
    "# menggabungkan dataset X_to_test dengan dataset dictionary to_inference\n",
    "X_to_test_filtered = pd.concat([X_to_test_filtered, pd.DataFrame(to_inference)], ignore_index = True)"
   ]
  },
  {
   "cell_type": "code",
   "execution_count": null,
   "id": "c909fe11",
   "metadata": {
    "id": "c909fe11",
    "outputId": "de5cb023-7695-4835-e299-a3de04adfa8b"
   },
   "outputs": [],
   "source": [
    "# menampilkan dataset X_to_test\n",
    "X_to_test_filtered"
   ]
  },
  {
   "cell_type": "code",
   "execution_count": null,
   "id": "ab79f8d1",
   "metadata": {
    "id": "ab79f8d1",
    "outputId": "e2cc4129-b826-4df8-a6c9-f1f5a85880e8"
   },
   "outputs": [],
   "source": [
    "# menereapkan one hot encoding variabel kategorikal ke numerik pada dataset X_to_test\n",
    "X_to_test_filtered = pd.get_dummies(X_to_test_filtered)\n",
    "\n",
    "# memilih dua baris terakhir dari dataset X_to_test\n",
    "X_to_test_filtered = X_to_test_filtered[-1:]\n",
    "\n",
    "# menampilkan dataset X_to_test\n",
    "X_to_test_filtered"
   ]
  },
  {
   "cell_type": "code",
   "execution_count": null,
   "id": "e6809691",
   "metadata": {
    "id": "e6809691"
   },
   "outputs": [],
   "source": [
    "# drop kolom price pada dataset X_to_test\n",
    "X_to_test_filtered = X_to_test_filtered.drop(columns = 'RainTomorrow')"
   ]
  },
  {
   "cell_type": "code",
   "execution_count": null,
   "id": "ead90a73",
   "metadata": {
    "id": "ead90a73",
    "outputId": "56ea645a-4132-49ef-e999-0e510694d5c7"
   },
   "outputs": [],
   "source": [
    "# menampilkan dataset X_to_test\n",
    "X_to_test_filtered"
   ]
  },
  {
   "cell_type": "code",
   "execution_count": null,
   "id": "ad3195c7",
   "metadata": {
    "id": "ad3195c7"
   },
   "outputs": [],
   "source": [
    "# memprediksi nilai price menggunakan model logistic regression yang telah dilatih sebelumnya\n",
    "RainTomorrowLoReg = y_pred_log"
   ]
  },
  {
   "cell_type": "code",
   "execution_count": null,
   "id": "7bab4f47",
   "metadata": {
    "id": "7bab4f47"
   },
   "outputs": [],
   "source": [
    "# memprediksi nilai price menggunakan model SVM yang telah dilatih sebelumnya\n",
    "RainTomorrowSVM = y_pred_svm"
   ]
  },
  {
   "cell_type": "code",
   "execution_count": null,
   "id": "0fc0388a",
   "metadata": {
    "id": "0fc0388a",
    "outputId": "52dd9276-5a00-4cbb-e4c1-f424ce49b9a9"
   },
   "outputs": [],
   "source": [
    "# menampilkan hasil prediksi dengan distance keduanya 1 dan surge_multiplier 1\n",
    "np.set_printoptions(threshold=np.inf)\n",
    "print(RainTomorrowLoReg)"
   ]
  },
  {
   "cell_type": "code",
   "execution_count": null,
   "id": "a53687bb",
   "metadata": {
    "id": "a53687bb",
    "outputId": "fb5e47a9-9192-4291-dd59-78ef58b3aa97"
   },
   "outputs": [],
   "source": [
    "total_zeros = np.count_nonzero(RainTomorrowLoReg == 0)\n",
    "total_ones = np.count_nonzero(RainTomorrowLoReg == 1)\n",
    "\n",
    "print(\"Total No:\", total_zeros)\n",
    "print(\"Total Yes:\", total_ones)"
   ]
  },
  {
   "cell_type": "code",
   "execution_count": null,
   "id": "19f5fe13",
   "metadata": {
    "id": "19f5fe13",
    "outputId": "b50fbc63-0e0b-4258-adfc-a9d3614c9167"
   },
   "outputs": [],
   "source": [
    "# menampilkan hasil prediksi dengan distance keduanya 1 dan surge_multiplier 1\n",
    "np.set_printoptions(threshold=np.inf)\n",
    "print(RainTomorrowSVM)"
   ]
  },
  {
   "cell_type": "code",
   "execution_count": null,
   "id": "957fb13a",
   "metadata": {
    "id": "957fb13a",
    "outputId": "675eeeaf-bdc5-4dce-88d3-6cd50e3ab816"
   },
   "outputs": [],
   "source": [
    "total_zeros = np.count_nonzero(RainTomorrowSVM == 0)\n",
    "total_ones = np.count_nonzero(RainTomorrowSVM == 1)\n",
    "\n",
    "print(\"Total No:\", total_zeros)\n",
    "print(\"Total Yes:\", total_ones)"
   ]
  },
  {
   "cell_type": "markdown",
   "id": "242709ec",
   "metadata": {
    "id": "242709ec"
   },
   "source": [
    "<h2>11. Kesimpulan</h2>\n",
    "<hr>"
   ]
  },
  {
   "cell_type": "markdown",
   "id": "6bf2f3ba",
   "metadata": {
    "id": "6bf2f3ba"
   },
   "source": [
    "1. Dataset ini terdiri dari 145.460 baris dan 23 kolom. Dataset ini berisi tentang informasi pengamatan cuaca harian dari banyak lokasi di seluruh Australia selama sekitar 10 tahun.\n",
    "2. Berdasarkan grafik bar, diketahui bahwa perbandingan hujan hari ini di Australia didominasi dengan situasi tidak hujan.\n",
    "3. Berdasarkan grafik lingkaran, diketahui bahwa persentase wilayah yang tidak mengalami hujan pada hari ini lebih besar daripada yang mengalami hujan (78%).\n",
    "4. Berdasarkan grafik bar, diketahui bahwa wilayah Portland merupakan lokasi dengan jumlah hari hujan terbanyak (>1000).\n",
    "5. Berdasarkan tingkat akurasi, logistic regression dan SVM menunjukkan nilai akurasi yang sama, yaitu sebesar 0,84.\n",
    "6. Model berhasil digunakan untuk memprediksi RainTomorrow dengan value inference yang dipakai adalah sebagai berikut:\n",
    "         'MinTemp' : [17.1],\n",
    "         'MaxTemp' : [34.4],\n",
    "         'WindGustSpeed' : [50],\n",
    "         'WindSpeed9am' : [17],\n",
    "         'WindSpeed3pm' : [24],\n",
    "         'Humidity9am' : [70],\n",
    "         'Humidity3pm' : [30],\n",
    "         'Pressure9am' : [1001.0],\n",
    "         'Pressure3pm' : [1000.5],\n",
    "         'Temp9am' : [20]\n",
    "Dengan menggunakan model logistic regression, diperoleh hasil inference atau prediksi No = 37559 dan Yes = 5993 yang menunjukkan prediksi bahwa besok tidak hujan. Begitupun dengan hasil inference atau prediksi dengan menggunakan SVM No = 38350 dan Yes = 5202 yang juga menunjukkan prediksi bahwa besok tidak hujan.\n"
   ]
  }
 ],
 "metadata": {
  "colab": {
   "provenance": []
  },
  "kernelspec": {
   "display_name": "Python 3 (ipykernel)",
   "language": "python",
   "name": "python3"
  },
  "language_info": {
   "codemirror_mode": {
    "name": "ipython",
    "version": 3
   },
   "file_extension": ".py",
   "mimetype": "text/x-python",
   "name": "python",
   "nbconvert_exporter": "python",
   "pygments_lexer": "ipython3",
   "version": "3.9.12"
  }
 },
 "nbformat": 4,
 "nbformat_minor": 5
}
